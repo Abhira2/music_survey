{
 "cells": [
  {
   "attachments": {
    "recommended_tracks_ERD.png": {
     "image/png": "[encoded data removed]"
    }
   },
   "cell_type": "markdown",
   "id": "d5c27ff9",
   "metadata": {},
   "source": [
    "# Normalize track data from Spotify\n",
    "\n",
    "In Phase 1, we retrieved track data from Spotify and loaded it into a single table:\n",
    "![recommended_tracks_ERD.png](attachment:recommended_tracks_ERD.png)"
   ]
  },
  {
   "attachments": {},
   "cell_type": "markdown",
   "id": "aafdc892",
   "metadata": {},
   "source": [
    "In this Phase 2, we normalize the data to create 4 tables in total: tracks, albums, artists and music_collection. The last table is an association table which links to each of the tables."
   ]
  },
  {
   "cell_type": "markdown",
   "id": "d54713f2",
   "metadata": {},
   "source": [
    "# Import libraries"
   ]
  },
  {
   "cell_type": "code",
   "execution_count": 1,
   "id": "5f288abe",
   "metadata": {},
   "outputs": [],
   "source": [
    "import spotipy\n",
    "from spotipy.oauth2 import SpotifyClientCredentials\n",
    "import pandas as pd\n",
    "import psycopg2\n",
    "import sqlalchemy as db"
   ]
  },
  {
   "cell_type": "markdown",
   "id": "115dcbc3",
   "metadata": {},
   "source": [
    "# Retrieve data from Spotify, 3 songs for each genre"
   ]
  },
  {
   "cell_type": "code",
   "execution_count": 2,
   "id": "11139ebb",
   "metadata": {},
   "outputs": [],
   "source": [
    "# Set your Spotify API credentials\n",
    "client_id = '6c2ff081fe494968a2e3a618c678fd62'\n",
    "client_secret = '99da4179a82f4f999058535d8d9b47dc'"
   ]
  },
  {
   "cell_type": "code",
   "execution_count": 3,
   "id": "88c4735f",
   "metadata": {},
   "outputs": [],
   "source": [
    "# Initialize the Spotipy client\n",
    "sp = spotipy.Spotify(client_credentials_manager=SpotifyClientCredentials(client_id, client_secret))"
   ]
  },
  {
   "cell_type": "code",
   "execution_count": 4,
   "id": "860f5853",
   "metadata": {},
   "outputs": [],
   "source": [
    "# Define seed genres\n",
    "seed_genres = ['anime', 'ambient', 'classical', 'country', 'chill', 'edm', 'folk', 'gospel', 'hip-hop', 'jazz', 'k-pop', 'latin', 'metal', 'pop', 'r-n-b', 'rock']"
   ]
  },
  {
   "cell_type": "code",
   "execution_count": 5,
   "id": "05e05a8e",
   "metadata": {},
   "outputs": [],
   "source": [
    "# Initialize an empty list to store track data\n",
    "all_track_data = []"
   ]
  },
  {
   "cell_type": "code",
   "execution_count": 6,
   "id": "6050545c",
   "metadata": {},
   "outputs": [],
   "source": [
    "for seed_genre in seed_genres:\n",
    "    recommended_tracks = sp.recommendations(seed_genres=[seed_genre], limit=3, country=\"SG\")\n",
    "    for track in recommended_tracks[\"tracks\"]:\n",
    "        track_data = {\n",
    "            \"track_name\": track[\"name\"],\n",
    "            \"artist\": \", \".join(artist[\"name\"] for artist in track[\"artists\"]),\n",
    "            \"album\": track[\"album\"][\"name\"],\n",
    "            \"genre\": seed_genre,\n",
    "            \"image\": track[\"album\"][\"images\"][0][\"url\"],\n",
    "            \"preview_url\": track[\"preview_url\"],\n",
    "            \"url\": track['album']['external_urls']['spotify']\n",
    "        }\n",
    "        all_track_data.append(track_data)\n",
    "        \n",
    "        # Search for individual track by ID to get \"popularity\".\n",
    "        track_search = sp.track(track['id'])\n",
    "        track_data[\"popularity\"] = track_search[\"popularity\"]\n",
    "\n",
    "        # Search for audio features of track by ID\n",
    "        audio_features = sp.audio_features(track['id'])[0]\n",
    "        for key, value in audio_features.items():\n",
    "            track_data[key] = value"
   ]
  },
  {
   "cell_type": "markdown",
   "id": "4cefa6ec",
   "metadata": {},
   "source": [
    "# Convert Spotify data to dataframe and inspect data"
   ]
  },
  {
   "cell_type": "code",
   "execution_count": 7,
   "id": "df4bf6ac",
   "metadata": {},
   "outputs": [],
   "source": [
    "# Create a DataFrame from the track data\n",
    "df = pd.DataFrame(all_track_data)"
   ]
  },
  {
   "cell_type": "code",
   "execution_count": 8,
   "id": "aa1484d6",
   "metadata": {},
   "outputs": [
    {
     "name": "stdout",
     "output_type": "stream",
     "text": [
      "                     track_name              artist  \\\n",
      "0  Nornir (RADIO ONSEN EUTOPIA)  YAKUSHIMARU Etsuko   \n",
      "1       Best Friend - Live ver.            Prizmmy☆   \n",
      "2                      Realize!               i☆Ris   \n",
      "3             Gold Star Mothers             Hammock   \n",
      "4                      Low Roar            Low Roar   \n",
      "\n",
      "                                  album    genre  \\\n",
      "0                   RADIO ONSEN EUTOPIA    anime   \n",
      "1                             TAKE OFF!    anime   \n",
      "2                              Realize!    anime   \n",
      "3  Maybe They Will Sing for Us Tomorrow  ambient   \n",
      "4                              Low Roar  ambient   \n",
      "\n",
      "                                                              image  \\\n",
      "0  https://i.scdn.co/image/ab67616d0000b273d5ca7cfbd330bde6b0a77724   \n",
      "1  https://i.scdn.co/image/ab67616d0000b273059ad59cc0a6c609121a0aba   \n",
      "2  https://i.scdn.co/image/ab67616d0000b2732984b57f72422e8fb2d1d119   \n",
      "3  https://i.scdn.co/image/ab67616d0000b2732f2431822c1d3d2f5bf57a6b   \n",
      "4  https://i.scdn.co/image/ab67616d0000b273b1965951dee18853169633de   \n",
      "\n",
      "                                                                                                   preview_url  \\\n",
      "0  https://p.scdn.co/mp3-preview/1567d4376f28e4dd678678d471d6434680ad491f?cid=6c2ff081fe494968a2e3a618c678fd62   \n",
      "1  https://p.scdn.co/mp3-preview/81a60e4063d7163833559a712ec4297301331300?cid=6c2ff081fe494968a2e3a618c678fd62   \n",
      "2  https://p.scdn.co/mp3-preview/b7b7f193ac37803ed97b8f92120bd0e1b2e4b0a2?cid=6c2ff081fe494968a2e3a618c678fd62   \n",
      "3  https://p.scdn.co/mp3-preview/ae2b09642312ebda77064ee6e336cacc3e2d2e69?cid=6c2ff081fe494968a2e3a618c678fd62   \n",
      "4  https://p.scdn.co/mp3-preview/91e5d480bad050cb39a0c08aeca140e0996e5967?cid=6c2ff081fe494968a2e3a618c678fd62   \n",
      "\n",
      "                                                     url  popularity  \\\n",
      "0  https://open.spotify.com/album/3txAqR7xThb5LKKu8kGQrw          21   \n",
      "1  https://open.spotify.com/album/3eJvlaQrCEX3V5Uvbhx9aq           1   \n",
      "2  https://open.spotify.com/album/4uzV9bsZVekHq0eX0hyUfM          35   \n",
      "3  https://open.spotify.com/album/5o0Iks5mTW9seO26CPg572          28   \n",
      "4  https://open.spotify.com/album/2j8FTdrsfSRZE0dWCBmuEL          33   \n",
      "\n",
      "   danceability  energy  ...  liveness  valence    tempo            type  \\\n",
      "0        0.4400   0.821  ...    0.3410   0.3550  170.116  audio_features   \n",
      "1        0.6230   0.807  ...    0.8330   0.4610   90.006  audio_features   \n",
      "2        0.4270   0.962  ...    0.1950   0.5670  172.018  audio_features   \n",
      "3        0.1580   0.205  ...    0.0736   0.0309  133.117  audio_features   \n",
      "4        0.0878   0.150  ...    0.0799   0.0381   85.438  audio_features   \n",
      "\n",
      "                       id                                   uri  \\\n",
      "0  6OrdmZ00yMl2zCuVkIOa6N  spotify:track:6OrdmZ00yMl2zCuVkIOa6N   \n",
      "1  1UUHZEZLRkeM9ocX4x2bix  spotify:track:1UUHZEZLRkeM9ocX4x2bix   \n",
      "2  6MdwLWbz5l2h2jSgHQewcu  spotify:track:6MdwLWbz5l2h2jSgHQewcu   \n",
      "3  5BqISamfuYdcKiNqxy5btL  spotify:track:5BqISamfuYdcKiNqxy5btL   \n",
      "4  1PmzEt6a77dRdFtjLD2ZrW  spotify:track:1PmzEt6a77dRdFtjLD2ZrW   \n",
      "\n",
      "                                                 track_href  \\\n",
      "0  https://api.spotify.com/v1/tracks/6OrdmZ00yMl2zCuVkIOa6N   \n",
      "1  https://api.spotify.com/v1/tracks/1UUHZEZLRkeM9ocX4x2bix   \n",
      "2  https://api.spotify.com/v1/tracks/6MdwLWbz5l2h2jSgHQewcu   \n",
      "3  https://api.spotify.com/v1/tracks/5BqISamfuYdcKiNqxy5btL   \n",
      "4  https://api.spotify.com/v1/tracks/1PmzEt6a77dRdFtjLD2ZrW   \n",
      "\n",
      "                                                       analysis_url  \\\n",
      "0  https://api.spotify.com/v1/audio-analysis/6OrdmZ00yMl2zCuVkIOa6N   \n",
      "1  https://api.spotify.com/v1/audio-analysis/1UUHZEZLRkeM9ocX4x2bix   \n",
      "2  https://api.spotify.com/v1/audio-analysis/6MdwLWbz5l2h2jSgHQewcu   \n",
      "3  https://api.spotify.com/v1/audio-analysis/5BqISamfuYdcKiNqxy5btL   \n",
      "4  https://api.spotify.com/v1/audio-analysis/1PmzEt6a77dRdFtjLD2ZrW   \n",
      "\n",
      "   duration_ms time_signature  \n",
      "0       424589              4  \n",
      "1       271187              4  \n",
      "2       227773              4  \n",
      "3       462480              3  \n",
      "4       135453              1  \n",
      "\n",
      "[5 rows x 26 columns]\n"
     ]
    }
   ],
   "source": [
    "# Ensure print dataframe with full column width for url display, inspect\n",
    "pd.set_option('display.max_colwidth', None)  \n",
    "\n",
    "print(df.head())"
   ]
  },
  {
   "cell_type": "code",
   "execution_count": 9,
   "id": "7872ac83",
   "metadata": {},
   "outputs": [
    {
     "name": "stdout",
     "output_type": "stream",
     "text": [
      "<class 'pandas.core.frame.DataFrame'>\n",
      "RangeIndex: 48 entries, 0 to 47\n",
      "Data columns (total 26 columns):\n",
      " #   Column            Non-Null Count  Dtype  \n",
      "---  ------            --------------  -----  \n",
      " 0   track_name        48 non-null     object \n",
      " 1   artist            48 non-null     object \n",
      " 2   album             48 non-null     object \n",
      " 3   genre             48 non-null     object \n",
      " 4   image             48 non-null     object \n",
      " 5   preview_url       36 non-null     object \n",
      " 6   url               48 non-null     object \n",
      " 7   popularity        48 non-null     int64  \n",
      " 8   danceability      48 non-null     float64\n",
      " 9   energy            48 non-null     float64\n",
      " 10  key               48 non-null     int64  \n",
      " 11  loudness          48 non-null     float64\n",
      " 12  mode              48 non-null     int64  \n",
      " 13  speechiness       48 non-null     float64\n",
      " 14  acousticness      48 non-null     float64\n",
      " 15  instrumentalness  48 non-null     float64\n",
      " 16  liveness          48 non-null     float64\n",
      " 17  valence           48 non-null     float64\n",
      " 18  tempo             48 non-null     float64\n",
      " 19  type              48 non-null     object \n",
      " 20  id                48 non-null     object \n",
      " 21  uri               48 non-null     object \n",
      " 22  track_href        48 non-null     object \n",
      " 23  analysis_url      48 non-null     object \n",
      " 24  duration_ms       48 non-null     int64  \n",
      " 25  time_signature    48 non-null     int64  \n",
      "dtypes: float64(9), int64(5), object(12)\n",
      "memory usage: 9.9+ KB\n",
      "None\n"
     ]
    }
   ],
   "source": [
    "# Inspect info\n",
    "print(df.info())"
   ]
  },
  {
   "cell_type": "code",
   "execution_count": 10,
   "id": "efbf38e8",
   "metadata": {},
   "outputs": [
    {
     "name": "stdout",
     "output_type": "stream",
     "text": [
      "Empty DataFrame\n",
      "Columns: [track_name, artist, album, genre, image, preview_url, url, popularity, danceability, energy, key, loudness, mode, speechiness, acousticness, instrumentalness, liveness, valence, tempo, type, id, uri, track_href, analysis_url, duration_ms, time_signature]\n",
      "Index: []\n",
      "\n",
      "[0 rows x 26 columns]\n"
     ]
    }
   ],
   "source": [
    "# Check for duplicates\n",
    "print(df[df.duplicated()])"
   ]
  },
  {
   "cell_type": "code",
   "execution_count": 11,
   "id": "242175af",
   "metadata": {},
   "outputs": [
    {
     "name": "stdout",
     "output_type": "stream",
     "text": [
      "['anime' 'ambient' 'classical' 'country' 'chill' 'edm' 'folk' 'gospel'\n",
      " 'hip-hop' 'jazz' 'k-pop' 'latin' 'metal' 'pop' 'r-n-b' 'rock']\n"
     ]
    }
   ],
   "source": [
    "# Check if we retrieved all the genres\n",
    "print(df['genre'].unique())"
   ]
  },
  {
   "cell_type": "code",
   "execution_count": 12,
   "id": "9e49bd61",
   "metadata": {},
   "outputs": [],
   "source": [
    "# Make a copy to keep original as df\n",
    "tracks_df = df.copy(deep=True)"
   ]
  },
  {
   "cell_type": "code",
   "execution_count": 13,
   "id": "ccc64db2",
   "metadata": {},
   "outputs": [
    {
     "name": "stdout",
     "output_type": "stream",
     "text": [
      "['YAKUSHIMARU Etsuko' 'Prizmmy☆' 'i☆Ris' 'Hammock' 'Low Roar'\n",
      " 'The Cinematic Orchestra' 'Nils Frahm'\n",
      " 'Gustav Holst, SWR Vokalensemble Stuttgart, Staatsopernchor Stuttgart, Stuttgart Radio Symphony Orchestra, Sir Roger Norrington'\n",
      " 'Dario Marianelli' 'Trent Tomlinson' 'Kenny Chesney, Uncle Kracker'\n",
      " 'Dierks Bentley' 'Tom Odell, Zwette' 'The Cranberries' 'Tycho' 'Ianick'\n",
      " 'Benga' 'Laidback Luke, Hardwell' 'The Tallest Man On Earth'\n",
      " 'The Barr Brothers' 'Bon Iver' 'Shirley Caesar'\n",
      " 'Fred Hammond, Radical For Christ'\n",
      " 'Hezekiah Walker, The Love Fellowship Crusade Choir' 'Migos, Drake'\n",
      " 'Public Enemy' 'Logic' 'José James' 'Craig Taborn' 'Steps Ahead' 'STi'\n",
      " 'GD&TOP' 'Yiruma' 'La Mosca Tse-Tse'\n",
      " 'Chyno Miranda, Wisin, Gente De Zona' 'Prince Royce' 'In Flames' 'Dio'\n",
      " 'Dimmu Borgir' 'Marshmello, Bastille' 'Jess Glynne' 'SAYGRACE, G-Eazy'\n",
      " 'The Carters' 'Quincy' 'Erykah Badu' 'Van Halen' 'DED' 'Depeche Mode']\n"
     ]
    }
   ],
   "source": [
    "# Check artist column and observe multiple values in one column\n",
    "print(tracks_df['artist'].unique())"
   ]
  },
  {
   "cell_type": "markdown",
   "id": "b80bb295",
   "metadata": {},
   "source": [
    "# Create 'artists' table"
   ]
  },
  {
   "cell_type": "code",
   "execution_count": 14,
   "id": "cc81260a",
   "metadata": {},
   "outputs": [
    {
     "name": "stdout",
     "output_type": "stream",
     "text": [
      "0     YAKUSHIMARU Etsuko\n",
      "1               Prizmmy☆\n",
      "2                  i☆Ris\n",
      "3                Hammock\n",
      "4               Low Roar\n",
      "             ...        \n",
      "43                Quincy\n",
      "44           Erykah Badu\n",
      "45             Van Halen\n",
      "46                   DED\n",
      "47          Depeche Mode\n",
      "Length: 62, dtype: object\n"
     ]
    }
   ],
   "source": [
    "# Split values in 'artist' and create a new DataFrame for artists\n",
    "artists_df = tracks_df['artist'].str.split(', ', expand=True).stack().reset_index(level=1, drop=True)\n",
    "print(artists_df)"
   ]
  },
  {
   "cell_type": "code",
   "execution_count": 15,
   "id": "a1878b13",
   "metadata": {},
   "outputs": [
    {
     "name": "stdout",
     "output_type": "stream",
     "text": [
      "    index              artist\n",
      "0       0  YAKUSHIMARU Etsuko\n",
      "1       1            Prizmmy☆\n",
      "2       2               i☆Ris\n",
      "3       3             Hammock\n",
      "4       4            Low Roar\n",
      "..    ...                 ...\n",
      "57     43              Quincy\n",
      "58     44         Erykah Badu\n",
      "59     45           Van Halen\n",
      "60     46                 DED\n",
      "61     47        Depeche Mode\n",
      "\n",
      "[62 rows x 2 columns]\n"
     ]
    }
   ],
   "source": [
    "# Rename 'artist' column and reset index\n",
    "artists_df = artists_df.rename('artist').reset_index()\n",
    "print(artists_df)"
   ]
  },
  {
   "cell_type": "code",
   "execution_count": 16,
   "id": "716ba02a",
   "metadata": {},
   "outputs": [
    {
     "name": "stdout",
     "output_type": "stream",
     "text": [
      "                artist\n",
      "0   YAKUSHIMARU Etsuko\n",
      "1             Prizmmy☆\n",
      "2                i☆Ris\n",
      "3              Hammock\n",
      "4             Low Roar\n",
      "..                 ...\n",
      "57              Quincy\n",
      "58         Erykah Badu\n",
      "59           Van Halen\n",
      "60                 DED\n",
      "61        Depeche Mode\n",
      "\n",
      "[62 rows x 1 columns]\n"
     ]
    }
   ],
   "source": [
    "# Drop 'index' column\n",
    "artists_df = artists_df.drop('index', axis=1)\n",
    "print(artists_df)"
   ]
  },
  {
   "cell_type": "code",
   "execution_count": 17,
   "id": "e9ce7d4f",
   "metadata": {
    "scrolled": true
   },
   "outputs": [
    {
     "name": "stdout",
     "output_type": "stream",
     "text": [
      "<class 'pandas.core.frame.DataFrame'>\n",
      "RangeIndex: 62 entries, 0 to 61\n",
      "Data columns (total 2 columns):\n",
      " #   Column  Non-Null Count  Dtype \n",
      "---  ------  --------------  ----- \n",
      " 0   id      62 non-null     int64 \n",
      " 1   artist  62 non-null     object\n",
      "dtypes: int64(1), object(1)\n",
      "memory usage: 1.1+ KB\n",
      "None\n"
     ]
    }
   ],
   "source": [
    "# Create a unique id for each artist\n",
    "artists_df.insert(0, 'id', artists_df.index + 1)\n",
    "print(artists_df.info())"
   ]
  },
  {
   "cell_type": "markdown",
   "id": "4672471c",
   "metadata": {},
   "source": [
    "# Create albums table"
   ]
  },
  {
   "cell_type": "code",
   "execution_count": 18,
   "id": "c183c360",
   "metadata": {},
   "outputs": [
    {
     "name": "stdout",
     "output_type": "stream",
     "text": [
      "0                     RADIO ONSEN EUTOPIA\n",
      "1                               TAKE OFF!\n",
      "2                                Realize!\n",
      "3    Maybe They Will Sing for Us Tomorrow\n",
      "4                                Low Roar\n",
      "Name: album, dtype: object\n"
     ]
    }
   ],
   "source": [
    "albums_df = tracks_df['album']\n",
    "print(albums_df.head())"
   ]
  },
  {
   "cell_type": "code",
   "execution_count": 19,
   "id": "24aec5e8",
   "metadata": {},
   "outputs": [
    {
     "name": "stdout",
     "output_type": "stream",
     "text": [
      "   index                                 album\n",
      "0      0                   RADIO ONSEN EUTOPIA\n",
      "1      1                             TAKE OFF!\n",
      "2      2                              Realize!\n",
      "3      3  Maybe They Will Sing for Us Tomorrow\n",
      "4      4                              Low Roar\n"
     ]
    }
   ],
   "source": [
    "albums_df = albums_df.rename('album').reset_index()\n",
    "print(albums_df.head())"
   ]
  },
  {
   "cell_type": "code",
   "execution_count": 20,
   "id": "a3283ab7",
   "metadata": {},
   "outputs": [],
   "source": [
    "# Drop index column\n",
    "albums_df = albums_df.drop('index', axis=1)"
   ]
  },
  {
   "cell_type": "code",
   "execution_count": 21,
   "id": "aec2ac64",
   "metadata": {},
   "outputs": [
    {
     "name": "stdout",
     "output_type": "stream",
     "text": [
      "   id                                 album\n",
      "0   1                   RADIO ONSEN EUTOPIA\n",
      "1   2                             TAKE OFF!\n",
      "2   3                              Realize!\n",
      "3   4  Maybe They Will Sing for Us Tomorrow\n",
      "4   5                              Low Roar\n"
     ]
    }
   ],
   "source": [
    "# Create a unique id for each artist\n",
    "albums_df.insert(0, 'id', albums_df.index + 1)\n",
    "print(albums_df.head())"
   ]
  },
  {
   "cell_type": "markdown",
   "id": "0239ac40",
   "metadata": {},
   "source": [
    "# 'Explode' tracks_df\n",
    "\n",
    "tracks_df has a column 'artist' where we find multiple values in some entries. We need to split up the values and create a new row for each, using the dataframe.explode function. "
   ]
  },
  {
   "cell_type": "code",
   "execution_count": 22,
   "id": "1e51222f",
   "metadata": {},
   "outputs": [
    {
     "name": "stdout",
     "output_type": "stream",
     "text": [
      "                                                 track_name  \\\n",
      "0                              Nornir (RADIO ONSEN EUTOPIA)   \n",
      "1                                   Best Friend - Live ver.   \n",
      "2                                                  Realize!   \n",
      "3                                         Gold Star Mothers   \n",
      "4                                                  Low Roar   \n",
      "5                        The Awakening Of A Woman - Burnout   \n",
      "6                                                      Some   \n",
      "7  The Planets, Op. 32: IV. Jupiter, the Bringer of Jollity   \n",
      "8                                               Evey Reborn   \n",
      "9                                      One Wing In The Fire   \n",
      "\n",
      "                                                                                                                                 artist  \\\n",
      "0                                                                                                                  [YAKUSHIMARU Etsuko]   \n",
      "1                                                                                                                            [Prizmmy☆]   \n",
      "2                                                                                                                               [i☆Ris]   \n",
      "3                                                                                                                             [Hammock]   \n",
      "4                                                                                                                            [Low Roar]   \n",
      "5                                                                                                             [The Cinematic Orchestra]   \n",
      "6                                                                                                                          [Nils Frahm]   \n",
      "7  [Gustav Holst,  SWR Vokalensemble Stuttgart,  Staatsopernchor Stuttgart,  Stuttgart Radio Symphony Orchestra,  Sir Roger Norrington]   \n",
      "8                                                                                                                    [Dario Marianelli]   \n",
      "9                                                                                                                     [Trent Tomlinson]   \n",
      "\n",
      "                                                                 album  \\\n",
      "0                                                  RADIO ONSEN EUTOPIA   \n",
      "1                                                            TAKE OFF!   \n",
      "2                                                             Realize!   \n",
      "3                                 Maybe They Will Sing for Us Tomorrow   \n",
      "4                                                             Low Roar   \n",
      "5                                              Man With A Movie Camera   \n",
      "6                                                                 Solo   \n",
      "7  Holst: Planets (The) / Elgar: Serenade for String Orchestra, Op. 20   \n",
      "8                                                       V For Vendetta   \n",
      "9                                                   Country Is My Rock   \n",
      "\n",
      "       genre  \\\n",
      "0      anime   \n",
      "1      anime   \n",
      "2      anime   \n",
      "3    ambient   \n",
      "4    ambient   \n",
      "5    ambient   \n",
      "6  classical   \n",
      "7  classical   \n",
      "8  classical   \n",
      "9    country   \n",
      "\n",
      "                                                              image  \\\n",
      "0  https://i.scdn.co/image/ab67616d0000b273d5ca7cfbd330bde6b0a77724   \n",
      "1  https://i.scdn.co/image/ab67616d0000b273059ad59cc0a6c609121a0aba   \n",
      "2  https://i.scdn.co/image/ab67616d0000b2732984b57f72422e8fb2d1d119   \n",
      "3  https://i.scdn.co/image/ab67616d0000b2732f2431822c1d3d2f5bf57a6b   \n",
      "4  https://i.scdn.co/image/ab67616d0000b273b1965951dee18853169633de   \n",
      "5  https://i.scdn.co/image/ab67616d0000b273ee16233ff903986da09a898f   \n",
      "6  https://i.scdn.co/image/ab67616d0000b273b5ac7ee9200799e3a3260ebb   \n",
      "7  https://i.scdn.co/image/ab67616d0000b273cafb66211cd45e39f97bdd2f   \n",
      "8  https://i.scdn.co/image/ab67616d0000b273e6c2ae4647632ea671608935   \n",
      "9  https://i.scdn.co/image/ab67616d0000b273ffae8e2e27a24beaf16c921b   \n",
      "\n",
      "                                                                                                   preview_url  \\\n",
      "0  https://p.scdn.co/mp3-preview/1567d4376f28e4dd678678d471d6434680ad491f?cid=6c2ff081fe494968a2e3a618c678fd62   \n",
      "1  https://p.scdn.co/mp3-preview/81a60e4063d7163833559a712ec4297301331300?cid=6c2ff081fe494968a2e3a618c678fd62   \n",
      "2  https://p.scdn.co/mp3-preview/b7b7f193ac37803ed97b8f92120bd0e1b2e4b0a2?cid=6c2ff081fe494968a2e3a618c678fd62   \n",
      "3  https://p.scdn.co/mp3-preview/ae2b09642312ebda77064ee6e336cacc3e2d2e69?cid=6c2ff081fe494968a2e3a618c678fd62   \n",
      "4  https://p.scdn.co/mp3-preview/91e5d480bad050cb39a0c08aeca140e0996e5967?cid=6c2ff081fe494968a2e3a618c678fd62   \n",
      "5  https://p.scdn.co/mp3-preview/2222fdd0920678de0d87f9c811fa2beb297bf6aa?cid=6c2ff081fe494968a2e3a618c678fd62   \n",
      "6  https://p.scdn.co/mp3-preview/36dce0654d6fe8e66367b440ce1e9e962846b51a?cid=6c2ff081fe494968a2e3a618c678fd62   \n",
      "7  https://p.scdn.co/mp3-preview/698e1dc167e4a27eadf6021a3de40fb8eccba8f9?cid=6c2ff081fe494968a2e3a618c678fd62   \n",
      "8                                                                                                         None   \n",
      "9                                                                                                         None   \n",
      "\n",
      "                                                     url  popularity  \\\n",
      "0  https://open.spotify.com/album/3txAqR7xThb5LKKu8kGQrw          21   \n",
      "1  https://open.spotify.com/album/3eJvlaQrCEX3V5Uvbhx9aq           1   \n",
      "2  https://open.spotify.com/album/4uzV9bsZVekHq0eX0hyUfM          35   \n",
      "3  https://open.spotify.com/album/5o0Iks5mTW9seO26CPg572          28   \n",
      "4  https://open.spotify.com/album/2j8FTdrsfSRZE0dWCBmuEL          33   \n",
      "5  https://open.spotify.com/album/0nxt6d1DDf9gjXc1M0UTLQ          34   \n",
      "6  https://open.spotify.com/album/7eC6sBSIM2MgWdpywd90iU          51   \n",
      "7  https://open.spotify.com/album/0bZQ0Oly3ca4FQ2L11kSIs          33   \n",
      "8  https://open.spotify.com/album/2c59V99MBMR2tUylJSt2I2          40   \n",
      "9  https://open.spotify.com/album/1dMtfygDergsiS0sep6KDL          44   \n",
      "\n",
      "   danceability   energy  ...  liveness  valence    tempo            type  \\\n",
      "0        0.4400  0.82100  ...    0.3410   0.3550  170.116  audio_features   \n",
      "1        0.6230  0.80700  ...    0.8330   0.4610   90.006  audio_features   \n",
      "2        0.4270  0.96200  ...    0.1950   0.5670  172.018  audio_features   \n",
      "3        0.1580  0.20500  ...    0.0736   0.0309  133.117  audio_features   \n",
      "4        0.0878  0.15000  ...    0.0799   0.0381   85.438  audio_features   \n",
      "5        0.4180  0.44800  ...    0.1870   0.2570  171.484  audio_features   \n",
      "6        0.3140  0.00258  ...    0.0711   0.1970   75.858  audio_features   \n",
      "7        0.3650  0.22900  ...    0.2160   0.2790  131.935  audio_features   \n",
      "8        0.0736  0.09920  ...    0.2060   0.0291   80.369  audio_features   \n",
      "9        0.6130  0.52600  ...    0.1370   0.4120  142.055  audio_features   \n",
      "\n",
      "                       id                                   uri  \\\n",
      "0  6OrdmZ00yMl2zCuVkIOa6N  spotify:track:6OrdmZ00yMl2zCuVkIOa6N   \n",
      "1  1UUHZEZLRkeM9ocX4x2bix  spotify:track:1UUHZEZLRkeM9ocX4x2bix   \n",
      "2  6MdwLWbz5l2h2jSgHQewcu  spotify:track:6MdwLWbz5l2h2jSgHQewcu   \n",
      "3  5BqISamfuYdcKiNqxy5btL  spotify:track:5BqISamfuYdcKiNqxy5btL   \n",
      "4  1PmzEt6a77dRdFtjLD2ZrW  spotify:track:1PmzEt6a77dRdFtjLD2ZrW   \n",
      "5  4O6aEPT6CztOCBOaoFxZzN  spotify:track:4O6aEPT6CztOCBOaoFxZzN   \n",
      "6  28gRlopNz7IIWwiH32poAb  spotify:track:28gRlopNz7IIWwiH32poAb   \n",
      "7  3a0f1P42ynxsfOsMEAg05b  spotify:track:3a0f1P42ynxsfOsMEAg05b   \n",
      "8  3TJTQ8coHzyTVpDl09wZHG  spotify:track:3TJTQ8coHzyTVpDl09wZHG   \n",
      "9  338arfXmD9XaESFjfcQLsg  spotify:track:338arfXmD9XaESFjfcQLsg   \n",
      "\n",
      "                                                 track_href  \\\n",
      "0  https://api.spotify.com/v1/tracks/6OrdmZ00yMl2zCuVkIOa6N   \n",
      "1  https://api.spotify.com/v1/tracks/1UUHZEZLRkeM9ocX4x2bix   \n",
      "2  https://api.spotify.com/v1/tracks/6MdwLWbz5l2h2jSgHQewcu   \n",
      "3  https://api.spotify.com/v1/tracks/5BqISamfuYdcKiNqxy5btL   \n",
      "4  https://api.spotify.com/v1/tracks/1PmzEt6a77dRdFtjLD2ZrW   \n",
      "5  https://api.spotify.com/v1/tracks/4O6aEPT6CztOCBOaoFxZzN   \n",
      "6  https://api.spotify.com/v1/tracks/28gRlopNz7IIWwiH32poAb   \n",
      "7  https://api.spotify.com/v1/tracks/3a0f1P42ynxsfOsMEAg05b   \n",
      "8  https://api.spotify.com/v1/tracks/3TJTQ8coHzyTVpDl09wZHG   \n",
      "9  https://api.spotify.com/v1/tracks/338arfXmD9XaESFjfcQLsg   \n",
      "\n",
      "                                                       analysis_url  \\\n",
      "0  https://api.spotify.com/v1/audio-analysis/6OrdmZ00yMl2zCuVkIOa6N   \n",
      "1  https://api.spotify.com/v1/audio-analysis/1UUHZEZLRkeM9ocX4x2bix   \n",
      "2  https://api.spotify.com/v1/audio-analysis/6MdwLWbz5l2h2jSgHQewcu   \n",
      "3  https://api.spotify.com/v1/audio-analysis/5BqISamfuYdcKiNqxy5btL   \n",
      "4  https://api.spotify.com/v1/audio-analysis/1PmzEt6a77dRdFtjLD2ZrW   \n",
      "5  https://api.spotify.com/v1/audio-analysis/4O6aEPT6CztOCBOaoFxZzN   \n",
      "6  https://api.spotify.com/v1/audio-analysis/28gRlopNz7IIWwiH32poAb   \n",
      "7  https://api.spotify.com/v1/audio-analysis/3a0f1P42ynxsfOsMEAg05b   \n",
      "8  https://api.spotify.com/v1/audio-analysis/3TJTQ8coHzyTVpDl09wZHG   \n",
      "9  https://api.spotify.com/v1/audio-analysis/338arfXmD9XaESFjfcQLsg   \n",
      "\n",
      "   duration_ms time_signature  \n",
      "0       424589              4  \n",
      "1       271187              4  \n",
      "2       227773              4  \n",
      "3       462480              3  \n",
      "4       135453              1  \n",
      "5       620173              3  \n",
      "6       254174              4  \n",
      "7       467040              4  \n",
      "8       230653              4  \n",
      "9       232547              4  \n",
      "\n",
      "[10 rows x 26 columns]\n"
     ]
    }
   ],
   "source": [
    "tracks_df['artist'] = tracks_df['artist'].str.split(',')\n",
    "print(tracks_df.head(10))"
   ]
  },
  {
   "cell_type": "code",
   "execution_count": 23,
   "id": "2f34d90e",
   "metadata": {},
   "outputs": [
    {
     "name": "stdout",
     "output_type": "stream",
     "text": [
      "                                                  track_name  \\\n",
      "0                               Nornir (RADIO ONSEN EUTOPIA)   \n",
      "1                                    Best Friend - Live ver.   \n",
      "2                                                   Realize!   \n",
      "3                                          Gold Star Mothers   \n",
      "4                                                   Low Roar   \n",
      "5                         The Awakening Of A Woman - Burnout   \n",
      "6                                                       Some   \n",
      "7   The Planets, Op. 32: IV. Jupiter, the Bringer of Jollity   \n",
      "7   The Planets, Op. 32: IV. Jupiter, the Bringer of Jollity   \n",
      "7   The Planets, Op. 32: IV. Jupiter, the Bringer of Jollity   \n",
      "7   The Planets, Op. 32: IV. Jupiter, the Bringer of Jollity   \n",
      "7   The Planets, Op. 32: IV. Jupiter, the Bringer of Jollity   \n",
      "8                                                Evey Reborn   \n",
      "9                                       One Wing In The Fire   \n",
      "10                                    When the Sun Goes Down   \n",
      "\n",
      "                                 artist  \\\n",
      "0                    YAKUSHIMARU Etsuko   \n",
      "1                              Prizmmy☆   \n",
      "2                                 i☆Ris   \n",
      "3                               Hammock   \n",
      "4                              Low Roar   \n",
      "5               The Cinematic Orchestra   \n",
      "6                            Nils Frahm   \n",
      "7                          Gustav Holst   \n",
      "7           SWR Vokalensemble Stuttgart   \n",
      "7             Staatsopernchor Stuttgart   \n",
      "7    Stuttgart Radio Symphony Orchestra   \n",
      "7                  Sir Roger Norrington   \n",
      "8                      Dario Marianelli   \n",
      "9                       Trent Tomlinson   \n",
      "10                        Kenny Chesney   \n",
      "\n",
      "                                                                  album  \\\n",
      "0                                                   RADIO ONSEN EUTOPIA   \n",
      "1                                                             TAKE OFF!   \n",
      "2                                                              Realize!   \n",
      "3                                  Maybe They Will Sing for Us Tomorrow   \n",
      "4                                                              Low Roar   \n",
      "5                                               Man With A Movie Camera   \n",
      "6                                                                  Solo   \n",
      "7   Holst: Planets (The) / Elgar: Serenade for String Orchestra, Op. 20   \n",
      "7   Holst: Planets (The) / Elgar: Serenade for String Orchestra, Op. 20   \n",
      "7   Holst: Planets (The) / Elgar: Serenade for String Orchestra, Op. 20   \n",
      "7   Holst: Planets (The) / Elgar: Serenade for String Orchestra, Op. 20   \n",
      "7   Holst: Planets (The) / Elgar: Serenade for String Orchestra, Op. 20   \n",
      "8                                                        V For Vendetta   \n",
      "9                                                    Country Is My Rock   \n",
      "10                                               When The Sun Goes Down   \n",
      "\n",
      "        genre  \\\n",
      "0       anime   \n",
      "1       anime   \n",
      "2       anime   \n",
      "3     ambient   \n",
      "4     ambient   \n",
      "5     ambient   \n",
      "6   classical   \n",
      "7   classical   \n",
      "7   classical   \n",
      "7   classical   \n",
      "7   classical   \n",
      "7   classical   \n",
      "8   classical   \n",
      "9     country   \n",
      "10    country   \n",
      "\n",
      "                                                               image  \\\n",
      "0   https://i.scdn.co/image/ab67616d0000b273d5ca7cfbd330bde6b0a77724   \n",
      "1   https://i.scdn.co/image/ab67616d0000b273059ad59cc0a6c609121a0aba   \n",
      "2   https://i.scdn.co/image/ab67616d0000b2732984b57f72422e8fb2d1d119   \n",
      "3   https://i.scdn.co/image/ab67616d0000b2732f2431822c1d3d2f5bf57a6b   \n",
      "4   https://i.scdn.co/image/ab67616d0000b273b1965951dee18853169633de   \n",
      "5   https://i.scdn.co/image/ab67616d0000b273ee16233ff903986da09a898f   \n",
      "6   https://i.scdn.co/image/ab67616d0000b273b5ac7ee9200799e3a3260ebb   \n",
      "7   https://i.scdn.co/image/ab67616d0000b273cafb66211cd45e39f97bdd2f   \n",
      "7   https://i.scdn.co/image/ab67616d0000b273cafb66211cd45e39f97bdd2f   \n",
      "7   https://i.scdn.co/image/ab67616d0000b273cafb66211cd45e39f97bdd2f   \n",
      "7   https://i.scdn.co/image/ab67616d0000b273cafb66211cd45e39f97bdd2f   \n",
      "7   https://i.scdn.co/image/ab67616d0000b273cafb66211cd45e39f97bdd2f   \n",
      "8   https://i.scdn.co/image/ab67616d0000b273e6c2ae4647632ea671608935   \n",
      "9   https://i.scdn.co/image/ab67616d0000b273ffae8e2e27a24beaf16c921b   \n",
      "10  https://i.scdn.co/image/ab67616d0000b273528e4965b251e5f09dd32761   \n",
      "\n",
      "                                                                                                    preview_url  \\\n",
      "0   https://p.scdn.co/mp3-preview/1567d4376f28e4dd678678d471d6434680ad491f?cid=6c2ff081fe494968a2e3a618c678fd62   \n",
      "1   https://p.scdn.co/mp3-preview/81a60e4063d7163833559a712ec4297301331300?cid=6c2ff081fe494968a2e3a618c678fd62   \n",
      "2   https://p.scdn.co/mp3-preview/b7b7f193ac37803ed97b8f92120bd0e1b2e4b0a2?cid=6c2ff081fe494968a2e3a618c678fd62   \n",
      "3   https://p.scdn.co/mp3-preview/ae2b09642312ebda77064ee6e336cacc3e2d2e69?cid=6c2ff081fe494968a2e3a618c678fd62   \n",
      "4   https://p.scdn.co/mp3-preview/91e5d480bad050cb39a0c08aeca140e0996e5967?cid=6c2ff081fe494968a2e3a618c678fd62   \n",
      "5   https://p.scdn.co/mp3-preview/2222fdd0920678de0d87f9c811fa2beb297bf6aa?cid=6c2ff081fe494968a2e3a618c678fd62   \n",
      "6   https://p.scdn.co/mp3-preview/36dce0654d6fe8e66367b440ce1e9e962846b51a?cid=6c2ff081fe494968a2e3a618c678fd62   \n",
      "7   https://p.scdn.co/mp3-preview/698e1dc167e4a27eadf6021a3de40fb8eccba8f9?cid=6c2ff081fe494968a2e3a618c678fd62   \n",
      "7   https://p.scdn.co/mp3-preview/698e1dc167e4a27eadf6021a3de40fb8eccba8f9?cid=6c2ff081fe494968a2e3a618c678fd62   \n",
      "7   https://p.scdn.co/mp3-preview/698e1dc167e4a27eadf6021a3de40fb8eccba8f9?cid=6c2ff081fe494968a2e3a618c678fd62   \n",
      "7   https://p.scdn.co/mp3-preview/698e1dc167e4a27eadf6021a3de40fb8eccba8f9?cid=6c2ff081fe494968a2e3a618c678fd62   \n",
      "7   https://p.scdn.co/mp3-preview/698e1dc167e4a27eadf6021a3de40fb8eccba8f9?cid=6c2ff081fe494968a2e3a618c678fd62   \n",
      "8                                                                                                          None   \n",
      "9                                                                                                          None   \n",
      "10  https://p.scdn.co/mp3-preview/730c628b0beb24238cd3629b63b33f9e25d8e169?cid=6c2ff081fe494968a2e3a618c678fd62   \n",
      "\n",
      "                                                      url  popularity  \\\n",
      "0   https://open.spotify.com/album/3txAqR7xThb5LKKu8kGQrw          21   \n",
      "1   https://open.spotify.com/album/3eJvlaQrCEX3V5Uvbhx9aq           1   \n",
      "2   https://open.spotify.com/album/4uzV9bsZVekHq0eX0hyUfM          35   \n",
      "3   https://open.spotify.com/album/5o0Iks5mTW9seO26CPg572          28   \n",
      "4   https://open.spotify.com/album/2j8FTdrsfSRZE0dWCBmuEL          33   \n",
      "5   https://open.spotify.com/album/0nxt6d1DDf9gjXc1M0UTLQ          34   \n",
      "6   https://open.spotify.com/album/7eC6sBSIM2MgWdpywd90iU          51   \n",
      "7   https://open.spotify.com/album/0bZQ0Oly3ca4FQ2L11kSIs          33   \n",
      "7   https://open.spotify.com/album/0bZQ0Oly3ca4FQ2L11kSIs          33   \n",
      "7   https://open.spotify.com/album/0bZQ0Oly3ca4FQ2L11kSIs          33   \n",
      "7   https://open.spotify.com/album/0bZQ0Oly3ca4FQ2L11kSIs          33   \n",
      "7   https://open.spotify.com/album/0bZQ0Oly3ca4FQ2L11kSIs          33   \n",
      "8   https://open.spotify.com/album/2c59V99MBMR2tUylJSt2I2          40   \n",
      "9   https://open.spotify.com/album/1dMtfygDergsiS0sep6KDL          44   \n",
      "10  https://open.spotify.com/album/052CF6cpp0nAH67yuUrIp7          66   \n",
      "\n",
      "    danceability   energy  ...  liveness  valence    tempo            type  \\\n",
      "0         0.4400  0.82100  ...    0.3410   0.3550  170.116  audio_features   \n",
      "1         0.6230  0.80700  ...    0.8330   0.4610   90.006  audio_features   \n",
      "2         0.4270  0.96200  ...    0.1950   0.5670  172.018  audio_features   \n",
      "3         0.1580  0.20500  ...    0.0736   0.0309  133.117  audio_features   \n",
      "4         0.0878  0.15000  ...    0.0799   0.0381   85.438  audio_features   \n",
      "5         0.4180  0.44800  ...    0.1870   0.2570  171.484  audio_features   \n",
      "6         0.3140  0.00258  ...    0.0711   0.1970   75.858  audio_features   \n",
      "7         0.3650  0.22900  ...    0.2160   0.2790  131.935  audio_features   \n",
      "7         0.3650  0.22900  ...    0.2160   0.2790  131.935  audio_features   \n",
      "7         0.3650  0.22900  ...    0.2160   0.2790  131.935  audio_features   \n",
      "7         0.3650  0.22900  ...    0.2160   0.2790  131.935  audio_features   \n",
      "7         0.3650  0.22900  ...    0.2160   0.2790  131.935  audio_features   \n",
      "8         0.0736  0.09920  ...    0.2060   0.0291   80.369  audio_features   \n",
      "9         0.6130  0.52600  ...    0.1370   0.4120  142.055  audio_features   \n",
      "10        0.7980  0.74100  ...    0.2520   0.7080  104.945  audio_features   \n",
      "\n",
      "                        id                                   uri  \\\n",
      "0   6OrdmZ00yMl2zCuVkIOa6N  spotify:track:6OrdmZ00yMl2zCuVkIOa6N   \n",
      "1   1UUHZEZLRkeM9ocX4x2bix  spotify:track:1UUHZEZLRkeM9ocX4x2bix   \n",
      "2   6MdwLWbz5l2h2jSgHQewcu  spotify:track:6MdwLWbz5l2h2jSgHQewcu   \n",
      "3   5BqISamfuYdcKiNqxy5btL  spotify:track:5BqISamfuYdcKiNqxy5btL   \n",
      "4   1PmzEt6a77dRdFtjLD2ZrW  spotify:track:1PmzEt6a77dRdFtjLD2ZrW   \n",
      "5   4O6aEPT6CztOCBOaoFxZzN  spotify:track:4O6aEPT6CztOCBOaoFxZzN   \n",
      "6   28gRlopNz7IIWwiH32poAb  spotify:track:28gRlopNz7IIWwiH32poAb   \n",
      "7   3a0f1P42ynxsfOsMEAg05b  spotify:track:3a0f1P42ynxsfOsMEAg05b   \n",
      "7   3a0f1P42ynxsfOsMEAg05b  spotify:track:3a0f1P42ynxsfOsMEAg05b   \n",
      "7   3a0f1P42ynxsfOsMEAg05b  spotify:track:3a0f1P42ynxsfOsMEAg05b   \n",
      "7   3a0f1P42ynxsfOsMEAg05b  spotify:track:3a0f1P42ynxsfOsMEAg05b   \n",
      "7   3a0f1P42ynxsfOsMEAg05b  spotify:track:3a0f1P42ynxsfOsMEAg05b   \n",
      "8   3TJTQ8coHzyTVpDl09wZHG  spotify:track:3TJTQ8coHzyTVpDl09wZHG   \n",
      "9   338arfXmD9XaESFjfcQLsg  spotify:track:338arfXmD9XaESFjfcQLsg   \n",
      "10  5vLonpxn4VN0A8GtQOBSG0  spotify:track:5vLonpxn4VN0A8GtQOBSG0   \n",
      "\n",
      "                                                  track_href  \\\n",
      "0   https://api.spotify.com/v1/tracks/6OrdmZ00yMl2zCuVkIOa6N   \n",
      "1   https://api.spotify.com/v1/tracks/1UUHZEZLRkeM9ocX4x2bix   \n",
      "2   https://api.spotify.com/v1/tracks/6MdwLWbz5l2h2jSgHQewcu   \n",
      "3   https://api.spotify.com/v1/tracks/5BqISamfuYdcKiNqxy5btL   \n",
      "4   https://api.spotify.com/v1/tracks/1PmzEt6a77dRdFtjLD2ZrW   \n",
      "5   https://api.spotify.com/v1/tracks/4O6aEPT6CztOCBOaoFxZzN   \n",
      "6   https://api.spotify.com/v1/tracks/28gRlopNz7IIWwiH32poAb   \n",
      "7   https://api.spotify.com/v1/tracks/3a0f1P42ynxsfOsMEAg05b   \n",
      "7   https://api.spotify.com/v1/tracks/3a0f1P42ynxsfOsMEAg05b   \n",
      "7   https://api.spotify.com/v1/tracks/3a0f1P42ynxsfOsMEAg05b   \n",
      "7   https://api.spotify.com/v1/tracks/3a0f1P42ynxsfOsMEAg05b   \n",
      "7   https://api.spotify.com/v1/tracks/3a0f1P42ynxsfOsMEAg05b   \n",
      "8   https://api.spotify.com/v1/tracks/3TJTQ8coHzyTVpDl09wZHG   \n",
      "9   https://api.spotify.com/v1/tracks/338arfXmD9XaESFjfcQLsg   \n",
      "10  https://api.spotify.com/v1/tracks/5vLonpxn4VN0A8GtQOBSG0   \n",
      "\n",
      "                                                        analysis_url  \\\n",
      "0   https://api.spotify.com/v1/audio-analysis/6OrdmZ00yMl2zCuVkIOa6N   \n",
      "1   https://api.spotify.com/v1/audio-analysis/1UUHZEZLRkeM9ocX4x2bix   \n",
      "2   https://api.spotify.com/v1/audio-analysis/6MdwLWbz5l2h2jSgHQewcu   \n",
      "3   https://api.spotify.com/v1/audio-analysis/5BqISamfuYdcKiNqxy5btL   \n",
      "4   https://api.spotify.com/v1/audio-analysis/1PmzEt6a77dRdFtjLD2ZrW   \n",
      "5   https://api.spotify.com/v1/audio-analysis/4O6aEPT6CztOCBOaoFxZzN   \n",
      "6   https://api.spotify.com/v1/audio-analysis/28gRlopNz7IIWwiH32poAb   \n",
      "7   https://api.spotify.com/v1/audio-analysis/3a0f1P42ynxsfOsMEAg05b   \n",
      "7   https://api.spotify.com/v1/audio-analysis/3a0f1P42ynxsfOsMEAg05b   \n",
      "7   https://api.spotify.com/v1/audio-analysis/3a0f1P42ynxsfOsMEAg05b   \n",
      "7   https://api.spotify.com/v1/audio-analysis/3a0f1P42ynxsfOsMEAg05b   \n",
      "7   https://api.spotify.com/v1/audio-analysis/3a0f1P42ynxsfOsMEAg05b   \n",
      "8   https://api.spotify.com/v1/audio-analysis/3TJTQ8coHzyTVpDl09wZHG   \n",
      "9   https://api.spotify.com/v1/audio-analysis/338arfXmD9XaESFjfcQLsg   \n",
      "10  https://api.spotify.com/v1/audio-analysis/5vLonpxn4VN0A8GtQOBSG0   \n",
      "\n",
      "    duration_ms time_signature  \n",
      "0        424589              4  \n",
      "1        271187              4  \n",
      "2        227773              4  \n",
      "3        462480              3  \n",
      "4        135453              1  \n",
      "5        620173              3  \n",
      "6        254174              4  \n",
      "7        467040              4  \n",
      "7        467040              4  \n",
      "7        467040              4  \n",
      "7        467040              4  \n",
      "7        467040              4  \n",
      "8        230653              4  \n",
      "9        232547              4  \n",
      "10       290560              4  \n",
      "\n",
      "[15 rows x 26 columns]\n"
     ]
    }
   ],
   "source": [
    "tracks_ex_df = tracks_df.explode('artist')\n",
    "print(tracks_ex_df.head(15))"
   ]
  },
  {
   "cell_type": "code",
   "execution_count": 24,
   "id": "88c36f90",
   "metadata": {},
   "outputs": [
    {
     "name": "stdout",
     "output_type": "stream",
     "text": [
      "                                                 track_name  \\\n",
      "0                              Nornir (RADIO ONSEN EUTOPIA)   \n",
      "1                                   Best Friend - Live ver.   \n",
      "2                                                  Realize!   \n",
      "3                                         Gold Star Mothers   \n",
      "4                                                  Low Roar   \n",
      "5                        The Awakening Of A Woman - Burnout   \n",
      "6                                                      Some   \n",
      "7  The Planets, Op. 32: IV. Jupiter, the Bringer of Jollity   \n",
      "8  The Planets, Op. 32: IV. Jupiter, the Bringer of Jollity   \n",
      "9  The Planets, Op. 32: IV. Jupiter, the Bringer of Jollity   \n",
      "\n",
      "                         artist  \\\n",
      "0            YAKUSHIMARU Etsuko   \n",
      "1                      Prizmmy☆   \n",
      "2                         i☆Ris   \n",
      "3                       Hammock   \n",
      "4                      Low Roar   \n",
      "5       The Cinematic Orchestra   \n",
      "6                    Nils Frahm   \n",
      "7                  Gustav Holst   \n",
      "8   SWR Vokalensemble Stuttgart   \n",
      "9     Staatsopernchor Stuttgart   \n",
      "\n",
      "                                                                 album  \\\n",
      "0                                                  RADIO ONSEN EUTOPIA   \n",
      "1                                                            TAKE OFF!   \n",
      "2                                                             Realize!   \n",
      "3                                 Maybe They Will Sing for Us Tomorrow   \n",
      "4                                                             Low Roar   \n",
      "5                                              Man With A Movie Camera   \n",
      "6                                                                 Solo   \n",
      "7  Holst: Planets (The) / Elgar: Serenade for String Orchestra, Op. 20   \n",
      "8  Holst: Planets (The) / Elgar: Serenade for String Orchestra, Op. 20   \n",
      "9  Holst: Planets (The) / Elgar: Serenade for String Orchestra, Op. 20   \n",
      "\n",
      "       genre  \\\n",
      "0      anime   \n",
      "1      anime   \n",
      "2      anime   \n",
      "3    ambient   \n",
      "4    ambient   \n",
      "5    ambient   \n",
      "6  classical   \n",
      "7  classical   \n",
      "8  classical   \n",
      "9  classical   \n",
      "\n",
      "                                                              image  \\\n",
      "0  https://i.scdn.co/image/ab67616d0000b273d5ca7cfbd330bde6b0a77724   \n",
      "1  https://i.scdn.co/image/ab67616d0000b273059ad59cc0a6c609121a0aba   \n",
      "2  https://i.scdn.co/image/ab67616d0000b2732984b57f72422e8fb2d1d119   \n",
      "3  https://i.scdn.co/image/ab67616d0000b2732f2431822c1d3d2f5bf57a6b   \n",
      "4  https://i.scdn.co/image/ab67616d0000b273b1965951dee18853169633de   \n",
      "5  https://i.scdn.co/image/ab67616d0000b273ee16233ff903986da09a898f   \n",
      "6  https://i.scdn.co/image/ab67616d0000b273b5ac7ee9200799e3a3260ebb   \n",
      "7  https://i.scdn.co/image/ab67616d0000b273cafb66211cd45e39f97bdd2f   \n",
      "8  https://i.scdn.co/image/ab67616d0000b273cafb66211cd45e39f97bdd2f   \n",
      "9  https://i.scdn.co/image/ab67616d0000b273cafb66211cd45e39f97bdd2f   \n",
      "\n",
      "                                                                                                   preview_url  \\\n",
      "0  https://p.scdn.co/mp3-preview/1567d4376f28e4dd678678d471d6434680ad491f?cid=6c2ff081fe494968a2e3a618c678fd62   \n",
      "1  https://p.scdn.co/mp3-preview/81a60e4063d7163833559a712ec4297301331300?cid=6c2ff081fe494968a2e3a618c678fd62   \n",
      "2  https://p.scdn.co/mp3-preview/b7b7f193ac37803ed97b8f92120bd0e1b2e4b0a2?cid=6c2ff081fe494968a2e3a618c678fd62   \n",
      "3  https://p.scdn.co/mp3-preview/ae2b09642312ebda77064ee6e336cacc3e2d2e69?cid=6c2ff081fe494968a2e3a618c678fd62   \n",
      "4  https://p.scdn.co/mp3-preview/91e5d480bad050cb39a0c08aeca140e0996e5967?cid=6c2ff081fe494968a2e3a618c678fd62   \n",
      "5  https://p.scdn.co/mp3-preview/2222fdd0920678de0d87f9c811fa2beb297bf6aa?cid=6c2ff081fe494968a2e3a618c678fd62   \n",
      "6  https://p.scdn.co/mp3-preview/36dce0654d6fe8e66367b440ce1e9e962846b51a?cid=6c2ff081fe494968a2e3a618c678fd62   \n",
      "7  https://p.scdn.co/mp3-preview/698e1dc167e4a27eadf6021a3de40fb8eccba8f9?cid=6c2ff081fe494968a2e3a618c678fd62   \n",
      "8  https://p.scdn.co/mp3-preview/698e1dc167e4a27eadf6021a3de40fb8eccba8f9?cid=6c2ff081fe494968a2e3a618c678fd62   \n",
      "9  https://p.scdn.co/mp3-preview/698e1dc167e4a27eadf6021a3de40fb8eccba8f9?cid=6c2ff081fe494968a2e3a618c678fd62   \n",
      "\n",
      "                                                     url  popularity  \\\n",
      "0  https://open.spotify.com/album/3txAqR7xThb5LKKu8kGQrw          21   \n",
      "1  https://open.spotify.com/album/3eJvlaQrCEX3V5Uvbhx9aq           1   \n",
      "2  https://open.spotify.com/album/4uzV9bsZVekHq0eX0hyUfM          35   \n",
      "3  https://open.spotify.com/album/5o0Iks5mTW9seO26CPg572          28   \n",
      "4  https://open.spotify.com/album/2j8FTdrsfSRZE0dWCBmuEL          33   \n",
      "5  https://open.spotify.com/album/0nxt6d1DDf9gjXc1M0UTLQ          34   \n",
      "6  https://open.spotify.com/album/7eC6sBSIM2MgWdpywd90iU          51   \n",
      "7  https://open.spotify.com/album/0bZQ0Oly3ca4FQ2L11kSIs          33   \n",
      "8  https://open.spotify.com/album/0bZQ0Oly3ca4FQ2L11kSIs          33   \n",
      "9  https://open.spotify.com/album/0bZQ0Oly3ca4FQ2L11kSIs          33   \n",
      "\n",
      "   danceability   energy  ...  liveness  valence    tempo            type  \\\n",
      "0        0.4400  0.82100  ...    0.3410   0.3550  170.116  audio_features   \n",
      "1        0.6230  0.80700  ...    0.8330   0.4610   90.006  audio_features   \n",
      "2        0.4270  0.96200  ...    0.1950   0.5670  172.018  audio_features   \n",
      "3        0.1580  0.20500  ...    0.0736   0.0309  133.117  audio_features   \n",
      "4        0.0878  0.15000  ...    0.0799   0.0381   85.438  audio_features   \n",
      "5        0.4180  0.44800  ...    0.1870   0.2570  171.484  audio_features   \n",
      "6        0.3140  0.00258  ...    0.0711   0.1970   75.858  audio_features   \n",
      "7        0.3650  0.22900  ...    0.2160   0.2790  131.935  audio_features   \n",
      "8        0.3650  0.22900  ...    0.2160   0.2790  131.935  audio_features   \n",
      "9        0.3650  0.22900  ...    0.2160   0.2790  131.935  audio_features   \n",
      "\n",
      "                       id                                   uri  \\\n",
      "0  6OrdmZ00yMl2zCuVkIOa6N  spotify:track:6OrdmZ00yMl2zCuVkIOa6N   \n",
      "1  1UUHZEZLRkeM9ocX4x2bix  spotify:track:1UUHZEZLRkeM9ocX4x2bix   \n",
      "2  6MdwLWbz5l2h2jSgHQewcu  spotify:track:6MdwLWbz5l2h2jSgHQewcu   \n",
      "3  5BqISamfuYdcKiNqxy5btL  spotify:track:5BqISamfuYdcKiNqxy5btL   \n",
      "4  1PmzEt6a77dRdFtjLD2ZrW  spotify:track:1PmzEt6a77dRdFtjLD2ZrW   \n",
      "5  4O6aEPT6CztOCBOaoFxZzN  spotify:track:4O6aEPT6CztOCBOaoFxZzN   \n",
      "6  28gRlopNz7IIWwiH32poAb  spotify:track:28gRlopNz7IIWwiH32poAb   \n",
      "7  3a0f1P42ynxsfOsMEAg05b  spotify:track:3a0f1P42ynxsfOsMEAg05b   \n",
      "8  3a0f1P42ynxsfOsMEAg05b  spotify:track:3a0f1P42ynxsfOsMEAg05b   \n",
      "9  3a0f1P42ynxsfOsMEAg05b  spotify:track:3a0f1P42ynxsfOsMEAg05b   \n",
      "\n",
      "                                                 track_href  \\\n",
      "0  https://api.spotify.com/v1/tracks/6OrdmZ00yMl2zCuVkIOa6N   \n",
      "1  https://api.spotify.com/v1/tracks/1UUHZEZLRkeM9ocX4x2bix   \n",
      "2  https://api.spotify.com/v1/tracks/6MdwLWbz5l2h2jSgHQewcu   \n",
      "3  https://api.spotify.com/v1/tracks/5BqISamfuYdcKiNqxy5btL   \n",
      "4  https://api.spotify.com/v1/tracks/1PmzEt6a77dRdFtjLD2ZrW   \n",
      "5  https://api.spotify.com/v1/tracks/4O6aEPT6CztOCBOaoFxZzN   \n",
      "6  https://api.spotify.com/v1/tracks/28gRlopNz7IIWwiH32poAb   \n",
      "7  https://api.spotify.com/v1/tracks/3a0f1P42ynxsfOsMEAg05b   \n",
      "8  https://api.spotify.com/v1/tracks/3a0f1P42ynxsfOsMEAg05b   \n",
      "9  https://api.spotify.com/v1/tracks/3a0f1P42ynxsfOsMEAg05b   \n",
      "\n",
      "                                                       analysis_url  \\\n",
      "0  https://api.spotify.com/v1/audio-analysis/6OrdmZ00yMl2zCuVkIOa6N   \n",
      "1  https://api.spotify.com/v1/audio-analysis/1UUHZEZLRkeM9ocX4x2bix   \n",
      "2  https://api.spotify.com/v1/audio-analysis/6MdwLWbz5l2h2jSgHQewcu   \n",
      "3  https://api.spotify.com/v1/audio-analysis/5BqISamfuYdcKiNqxy5btL   \n",
      "4  https://api.spotify.com/v1/audio-analysis/1PmzEt6a77dRdFtjLD2ZrW   \n",
      "5  https://api.spotify.com/v1/audio-analysis/4O6aEPT6CztOCBOaoFxZzN   \n",
      "6  https://api.spotify.com/v1/audio-analysis/28gRlopNz7IIWwiH32poAb   \n",
      "7  https://api.spotify.com/v1/audio-analysis/3a0f1P42ynxsfOsMEAg05b   \n",
      "8  https://api.spotify.com/v1/audio-analysis/3a0f1P42ynxsfOsMEAg05b   \n",
      "9  https://api.spotify.com/v1/audio-analysis/3a0f1P42ynxsfOsMEAg05b   \n",
      "\n",
      "   duration_ms time_signature  \n",
      "0       424589              4  \n",
      "1       271187              4  \n",
      "2       227773              4  \n",
      "3       462480              3  \n",
      "4       135453              1  \n",
      "5       620173              3  \n",
      "6       254174              4  \n",
      "7       467040              4  \n",
      "8       467040              4  \n",
      "9       467040              4  \n",
      "\n",
      "[10 rows x 26 columns]\n"
     ]
    }
   ],
   "source": [
    "tracks_ex_df = tracks_ex_df.reset_index(drop=True)\n",
    "print(tracks_ex_df.head(10))"
   ]
  },
  {
   "cell_type": "markdown",
   "id": "537bd951",
   "metadata": {},
   "source": [
    "# Create association table taa_df\n",
    "\n",
    "Now we can create the association table with lists tracks-artists-albums. These can have many-to-many relationships."
   ]
  },
  {
   "cell_type": "code",
   "execution_count": 25,
   "id": "619dad56",
   "metadata": {},
   "outputs": [
    {
     "name": "stdout",
     "output_type": "stream",
     "text": [
      "                                  track_name              artist  \\\n",
      "0               Nornir (RADIO ONSEN EUTOPIA)  YAKUSHIMARU Etsuko   \n",
      "1                    Best Friend - Live ver.            Prizmmy☆   \n",
      "2                                   Realize!               i☆Ris   \n",
      "3                          Gold Star Mothers             Hammock   \n",
      "4                                   Low Roar            Low Roar   \n",
      "..                                       ...                 ...   \n",
      "57                           Late Night Flex              Quincy   \n",
      "58                               Window Seat         Erykah Badu   \n",
      "59  Ain't Talkin' 'Bout Love - 2015 Remaster           Van Halen   \n",
      "60                                Dead To Me                 DED   \n",
      "61                    Where's the Revolution        Depeche Mode   \n",
      "\n",
      "                                        album                      id  \n",
      "0                         RADIO ONSEN EUTOPIA  6OrdmZ00yMl2zCuVkIOa6N  \n",
      "1                                   TAKE OFF!  1UUHZEZLRkeM9ocX4x2bix  \n",
      "2                                    Realize!  6MdwLWbz5l2h2jSgHQewcu  \n",
      "3        Maybe They Will Sing for Us Tomorrow  5BqISamfuYdcKiNqxy5btL  \n",
      "4                                    Low Roar  1PmzEt6a77dRdFtjLD2ZrW  \n",
      "..                                        ...                     ...  \n",
      "57                            Late Night Flex  2r6BDYT9qAxk0F8EDeB3On  \n",
      "58  New Amerykah Part Two: Return Of The Ankh  74HYrIbnpc2xKCTenv5qKM  \n",
      "59                     Van Halen (Remastered)  6fybp4N6eW3bsFAvARxyVe  \n",
      "60                              Mis-An-Thrope  2S32sM0vfXzJ21oorNOdZP  \n",
      "61                            Spirit (Deluxe)  2JCv3LADgWrOcJoOa0so6m  \n",
      "\n",
      "[62 rows x 4 columns]\n"
     ]
    }
   ],
   "source": [
    "taa_df = tracks_ex_df[['track_name', 'artist', 'album', 'id']].copy(deep=True)\n",
    "print(taa_df)"
   ]
  },
  {
   "cell_type": "markdown",
   "id": "4e6ca494",
   "metadata": {},
   "source": [
    "# Copy albums.id into taa"
   ]
  },
  {
   "cell_type": "code",
   "execution_count": 26,
   "id": "52d9b2c3",
   "metadata": {},
   "outputs": [
    {
     "name": "stdout",
     "output_type": "stream",
     "text": [
      "   id_x                                 album                    track_name  \\\n",
      "0     1                   RADIO ONSEN EUTOPIA  Nornir (RADIO ONSEN EUTOPIA)   \n",
      "1     2                             TAKE OFF!       Best Friend - Live ver.   \n",
      "2     3                              Realize!                      Realize!   \n",
      "3     4  Maybe They Will Sing for Us Tomorrow             Gold Star Mothers   \n",
      "4     5                              Low Roar                      Low Roar   \n",
      "\n",
      "               artist                    id_y  \n",
      "0  YAKUSHIMARU Etsuko  6OrdmZ00yMl2zCuVkIOa6N  \n",
      "1            Prizmmy☆  1UUHZEZLRkeM9ocX4x2bix  \n",
      "2               i☆Ris  6MdwLWbz5l2h2jSgHQewcu  \n",
      "3             Hammock  5BqISamfuYdcKiNqxy5btL  \n",
      "4            Low Roar  1PmzEt6a77dRdFtjLD2ZrW  \n"
     ]
    }
   ],
   "source": [
    "albums_merged_df = pd.merge(albums_df, taa_df, left_on='album', right_on='album', how='left')\n",
    "print(albums_merged_df.head())"
   ]
  },
  {
   "cell_type": "code",
   "execution_count": 27,
   "id": "6c402e71",
   "metadata": {},
   "outputs": [
    {
     "name": "stdout",
     "output_type": "stream",
     "text": [
      "                                  track_name              artist  \\\n",
      "0               Nornir (RADIO ONSEN EUTOPIA)  YAKUSHIMARU Etsuko   \n",
      "1                    Best Friend - Live ver.            Prizmmy☆   \n",
      "2                                   Realize!               i☆Ris   \n",
      "3                          Gold Star Mothers             Hammock   \n",
      "4                                   Low Roar            Low Roar   \n",
      "..                                       ...                 ...   \n",
      "57                           Late Night Flex              Quincy   \n",
      "58                               Window Seat         Erykah Badu   \n",
      "59  Ain't Talkin' 'Bout Love - 2015 Remaster           Van Halen   \n",
      "60                                Dead To Me                 DED   \n",
      "61                    Where's the Revolution        Depeche Mode   \n",
      "\n",
      "                                        album                      id  \\\n",
      "0                         RADIO ONSEN EUTOPIA  6OrdmZ00yMl2zCuVkIOa6N   \n",
      "1                                   TAKE OFF!  1UUHZEZLRkeM9ocX4x2bix   \n",
      "2                                    Realize!  6MdwLWbz5l2h2jSgHQewcu   \n",
      "3        Maybe They Will Sing for Us Tomorrow  5BqISamfuYdcKiNqxy5btL   \n",
      "4                                    Low Roar  1PmzEt6a77dRdFtjLD2ZrW   \n",
      "..                                        ...                     ...   \n",
      "57                            Late Night Flex  2r6BDYT9qAxk0F8EDeB3On   \n",
      "58  New Amerykah Part Two: Return Of The Ankh  74HYrIbnpc2xKCTenv5qKM   \n",
      "59                     Van Halen (Remastered)  6fybp4N6eW3bsFAvARxyVe   \n",
      "60                              Mis-An-Thrope  2S32sM0vfXzJ21oorNOdZP   \n",
      "61                            Spirit (Deluxe)  2JCv3LADgWrOcJoOa0so6m   \n",
      "\n",
      "    album_id  \n",
      "0          1  \n",
      "1          2  \n",
      "2          3  \n",
      "3          4  \n",
      "4          5  \n",
      "..       ...  \n",
      "57        44  \n",
      "58        45  \n",
      "59        46  \n",
      "60        47  \n",
      "61        48  \n",
      "\n",
      "[62 rows x 5 columns]\n"
     ]
    }
   ],
   "source": [
    "taa_df['album_id'] = albums_merged_df['id_x']\n",
    "print(taa_df)"
   ]
  },
  {
   "cell_type": "markdown",
   "id": "2dba43dc",
   "metadata": {},
   "source": [
    "# Copy artists.id into taa"
   ]
  },
  {
   "cell_type": "code",
   "execution_count": 28,
   "id": "849fea91",
   "metadata": {},
   "outputs": [
    {
     "name": "stdout",
     "output_type": "stream",
     "text": [
      "    id_x              artist                                track_name  \\\n",
      "0      1  YAKUSHIMARU Etsuko              Nornir (RADIO ONSEN EUTOPIA)   \n",
      "1      2            Prizmmy☆                   Best Friend - Live ver.   \n",
      "2      3               i☆Ris                                  Realize!   \n",
      "3      4             Hammock                         Gold Star Mothers   \n",
      "4      5            Low Roar                                  Low Roar   \n",
      "..   ...                 ...                                       ...   \n",
      "57    58              Quincy                           Late Night Flex   \n",
      "58    59         Erykah Badu                               Window Seat   \n",
      "59    60           Van Halen  Ain't Talkin' 'Bout Love - 2015 Remaster   \n",
      "60    61                 DED                                Dead To Me   \n",
      "61    62        Depeche Mode                    Where's the Revolution   \n",
      "\n",
      "                                        album                    id_y  \\\n",
      "0                         RADIO ONSEN EUTOPIA  6OrdmZ00yMl2zCuVkIOa6N   \n",
      "1                                   TAKE OFF!  1UUHZEZLRkeM9ocX4x2bix   \n",
      "2                                    Realize!  6MdwLWbz5l2h2jSgHQewcu   \n",
      "3        Maybe They Will Sing for Us Tomorrow  5BqISamfuYdcKiNqxy5btL   \n",
      "4                                    Low Roar  1PmzEt6a77dRdFtjLD2ZrW   \n",
      "..                                        ...                     ...   \n",
      "57                            Late Night Flex  2r6BDYT9qAxk0F8EDeB3On   \n",
      "58  New Amerykah Part Two: Return Of The Ankh  74HYrIbnpc2xKCTenv5qKM   \n",
      "59                     Van Halen (Remastered)  6fybp4N6eW3bsFAvARxyVe   \n",
      "60                              Mis-An-Thrope  2S32sM0vfXzJ21oorNOdZP   \n",
      "61                            Spirit (Deluxe)  2JCv3LADgWrOcJoOa0so6m   \n",
      "\n",
      "    album_id  \n",
      "0        1.0  \n",
      "1        2.0  \n",
      "2        3.0  \n",
      "3        4.0  \n",
      "4        5.0  \n",
      "..       ...  \n",
      "57      44.0  \n",
      "58      45.0  \n",
      "59      46.0  \n",
      "60      47.0  \n",
      "61      48.0  \n",
      "\n",
      "[62 rows x 6 columns]\n"
     ]
    }
   ],
   "source": [
    "artists_merged_df = pd.merge(artists_df, taa_df, left_on='artist', right_on='artist', how='left')\n",
    "print(artists_merged_df)"
   ]
  },
  {
   "cell_type": "code",
   "execution_count": 29,
   "id": "91a70071",
   "metadata": {},
   "outputs": [
    {
     "name": "stdout",
     "output_type": "stream",
     "text": [
      "                                  track_name              artist  \\\n",
      "0               Nornir (RADIO ONSEN EUTOPIA)  YAKUSHIMARU Etsuko   \n",
      "1                    Best Friend - Live ver.            Prizmmy☆   \n",
      "2                                   Realize!               i☆Ris   \n",
      "3                          Gold Star Mothers             Hammock   \n",
      "4                                   Low Roar            Low Roar   \n",
      "..                                       ...                 ...   \n",
      "57                           Late Night Flex              Quincy   \n",
      "58                               Window Seat         Erykah Badu   \n",
      "59  Ain't Talkin' 'Bout Love - 2015 Remaster           Van Halen   \n",
      "60                                Dead To Me                 DED   \n",
      "61                    Where's the Revolution        Depeche Mode   \n",
      "\n",
      "                                        album                      id  \\\n",
      "0                         RADIO ONSEN EUTOPIA  6OrdmZ00yMl2zCuVkIOa6N   \n",
      "1                                   TAKE OFF!  1UUHZEZLRkeM9ocX4x2bix   \n",
      "2                                    Realize!  6MdwLWbz5l2h2jSgHQewcu   \n",
      "3        Maybe They Will Sing for Us Tomorrow  5BqISamfuYdcKiNqxy5btL   \n",
      "4                                    Low Roar  1PmzEt6a77dRdFtjLD2ZrW   \n",
      "..                                        ...                     ...   \n",
      "57                            Late Night Flex  2r6BDYT9qAxk0F8EDeB3On   \n",
      "58  New Amerykah Part Two: Return Of The Ankh  74HYrIbnpc2xKCTenv5qKM   \n",
      "59                     Van Halen (Remastered)  6fybp4N6eW3bsFAvARxyVe   \n",
      "60                              Mis-An-Thrope  2S32sM0vfXzJ21oorNOdZP   \n",
      "61                            Spirit (Deluxe)  2JCv3LADgWrOcJoOa0so6m   \n",
      "\n",
      "    album_id  artist_id  \n",
      "0          1          1  \n",
      "1          2          2  \n",
      "2          3          3  \n",
      "3          4          4  \n",
      "4          5          5  \n",
      "..       ...        ...  \n",
      "57        44         58  \n",
      "58        45         59  \n",
      "59        46         60  \n",
      "60        47         61  \n",
      "61        48         62  \n",
      "\n",
      "[62 rows x 6 columns]\n"
     ]
    }
   ],
   "source": [
    "taa_df['artist_id'] = artists_merged_df['id_x']\n",
    "print(taa_df)"
   ]
  },
  {
   "cell_type": "code",
   "execution_count": 30,
   "id": "66d25fb8",
   "metadata": {},
   "outputs": [],
   "source": [
    "# Rename 'id' column from original table, which refers to track_id\n",
    "taa_df = taa_df.rename(columns={'id': 'track_id'})"
   ]
  },
  {
   "cell_type": "code",
   "execution_count": 31,
   "id": "1d041aac",
   "metadata": {},
   "outputs": [],
   "source": [
    "# Drop track_name, artist, and album columns to conform to 2NF\n",
    "taa_df = taa_df.drop(['track_name', 'artist', 'album'], axis=1)"
   ]
  },
  {
   "cell_type": "code",
   "execution_count": 32,
   "id": "281e0d2a",
   "metadata": {},
   "outputs": [
    {
     "name": "stdout",
     "output_type": "stream",
     "text": [
      "['track_id', 'album_id', 'artist_id']\n"
     ]
    }
   ],
   "source": [
    "print(list(taa_df.columns))"
   ]
  },
  {
   "cell_type": "markdown",
   "id": "d42a866a",
   "metadata": {},
   "source": [
    "# Clean up tracks_df"
   ]
  },
  {
   "cell_type": "code",
   "execution_count": 33,
   "id": "7fd0e39c",
   "metadata": {},
   "outputs": [],
   "source": [
    "# Remove artist and album from tracks_df\n",
    "tracks_df = tracks_df.drop(['artist', 'album'], axis=1)"
   ]
  },
  {
   "cell_type": "code",
   "execution_count": 34,
   "id": "c7c43c53",
   "metadata": {},
   "outputs": [
    {
     "name": "stdout",
     "output_type": "stream",
     "text": [
      "<class 'pandas.core.frame.DataFrame'>\n",
      "RangeIndex: 48 entries, 0 to 47\n",
      "Data columns (total 24 columns):\n",
      " #   Column            Non-Null Count  Dtype  \n",
      "---  ------            --------------  -----  \n",
      " 0   id                48 non-null     object \n",
      " 1   track_name        48 non-null     object \n",
      " 2   genre             48 non-null     object \n",
      " 3   image             48 non-null     object \n",
      " 4   preview_url       36 non-null     object \n",
      " 5   url               48 non-null     object \n",
      " 6   popularity        48 non-null     int64  \n",
      " 7   danceability      48 non-null     float64\n",
      " 8   energy            48 non-null     float64\n",
      " 9   key               48 non-null     int64  \n",
      " 10  loudness          48 non-null     float64\n",
      " 11  mode              48 non-null     int64  \n",
      " 12  speechiness       48 non-null     float64\n",
      " 13  acousticness      48 non-null     float64\n",
      " 14  instrumentalness  48 non-null     float64\n",
      " 15  liveness          48 non-null     float64\n",
      " 16  valence           48 non-null     float64\n",
      " 17  tempo             48 non-null     float64\n",
      " 18  type              48 non-null     object \n",
      " 19  uri               48 non-null     object \n",
      " 20  track_href        48 non-null     object \n",
      " 21  analysis_url      48 non-null     object \n",
      " 22  duration_ms       48 non-null     int64  \n",
      " 23  time_signature    48 non-null     int64  \n",
      "dtypes: float64(9), int64(5), object(10)\n",
      "memory usage: 9.1+ KB\n",
      "None\n"
     ]
    }
   ],
   "source": [
    "# Pop 'id' column, and insert into the front, to designate as primary key in table\n",
    "cols = list(tracks_df)\n",
    "cols.insert(0, cols.pop(cols.index('id')))  \n",
    "tracks_df = tracks_df[cols]\n",
    "\n",
    "# Check after done\n",
    "print(tracks_df.info())"
   ]
  },
  {
   "cell_type": "code",
   "execution_count": 35,
   "id": "59b166d5",
   "metadata": {},
   "outputs": [
    {
     "name": "stdout",
     "output_type": "stream",
     "text": [
      "                       id                    track_name  genre  \\\n",
      "0  6OrdmZ00yMl2zCuVkIOa6N  Nornir (RADIO ONSEN EUTOPIA)  anime   \n",
      "1  1UUHZEZLRkeM9ocX4x2bix       Best Friend - Live ver.  anime   \n",
      "\n",
      "                                                              image  \\\n",
      "0  https://i.scdn.co/image/ab67616d0000b273d5ca7cfbd330bde6b0a77724   \n",
      "1  https://i.scdn.co/image/ab67616d0000b273059ad59cc0a6c609121a0aba   \n",
      "\n",
      "                                                                                                   preview_url  \\\n",
      "0  https://p.scdn.co/mp3-preview/1567d4376f28e4dd678678d471d6434680ad491f?cid=6c2ff081fe494968a2e3a618c678fd62   \n",
      "1  https://p.scdn.co/mp3-preview/81a60e4063d7163833559a712ec4297301331300?cid=6c2ff081fe494968a2e3a618c678fd62   \n",
      "\n",
      "                                                     url  popularity  \\\n",
      "0  https://open.spotify.com/album/3txAqR7xThb5LKKu8kGQrw          21   \n",
      "1  https://open.spotify.com/album/3eJvlaQrCEX3V5Uvbhx9aq           1   \n",
      "\n",
      "   danceability  energy  key  loudness  mode  speechiness  acousticness  \\\n",
      "0         0.440   0.821    2    -4.879     0       0.0820         0.370   \n",
      "1         0.623   0.807    9    -6.775     1       0.0416         0.589   \n",
      "\n",
      "   instrumentalness  liveness  valence    tempo  duration_ms  time_signature  \n",
      "0          0.000051     0.341    0.355  170.116       424589               4  \n",
      "1          0.000000     0.833    0.461   90.006       271187               4  \n"
     ]
    }
   ],
   "source": [
    "# Drop 'type', 'uri', 'track_href', 'analysis_url' columns\n",
    "tracks_df.drop(columns=['type', 'uri', 'track_href', 'analysis_url'], inplace=True)\n",
    "print(tracks_df.head(2))"
   ]
  },
  {
   "cell_type": "markdown",
   "id": "ae74a620",
   "metadata": {},
   "source": [
    "# Connect to DB , create tables and load data into DB"
   ]
  },
  {
   "cell_type": "code",
   "execution_count": 46,
   "id": "e9819d3c",
   "metadata": {},
   "outputs": [],
   "source": [
    "# Connect to PostgreSQL database\n",
    "db_params = {\n",
    "    \"host\": \"rain.db.elephantsql.com\",\n",
    "    \"dbname\": \"auspovuc\",  # Replace with your desired database name\n",
    "    \"user\": \"auspovuc\",  # Replace with your PostgreSQL username\n",
    "    \"password\": \"bmJdG19Daw9rkEsJ3VnkefRGCBF_oy7F\",  # Replace with your PostgreSQL password\n",
    "}\n",
    "# db_params = {\n",
    "#     \"host\": \"localhost\",\n",
    "#     \"dbname\": \"mmh_1\",  # Replace with your desired database name\n",
    "#     \"user\": \"postgres\",  # Replace with your PostgreSQL username\n",
    "#     \"password\": \"admin\",  # Replace with your PostgreSQL password\n",
    "#     \"port\": \"5432\"\n",
    "# }\n",
    "conn = psycopg2.connect(**db_params)\n",
    "cur = conn.cursor()"
   ]
  },
  {
   "cell_type": "code",
   "execution_count": 47,
   "id": "f8fa0546",
   "metadata": {},
   "outputs": [],
   "source": [
    "# Create a table tracks\n",
    "cur.execute(\"\"\"\n",
    "    CREATE TABLE IF NOT EXISTS tracks (\n",
    "        id VARCHAR PRIMARY KEY,\n",
    "        track_name VARCHAR,\n",
    "        genre VARCHAR,\n",
    "        image VARCHAR,\n",
    "        preview_url VARCHAR,\n",
    "        url VARCHAR,\n",
    "        popularity SMALLINT,\n",
    "        danceability FLOAT,\n",
    "        energy FLOAT,\n",
    "        key SMALLINT,\n",
    "        loudness FLOAT,\n",
    "        mode SMALLINT,\n",
    "        speechiness FLOAT,\n",
    "        acousticness FLOAT,\n",
    "        liveness FLOAT, \n",
    "        valence FLOAT,\n",
    "        tempo FLOAT,\n",
    "        duration_ms INT,\n",
    "        time_signature SMALLINT\n",
    "    )\n",
    "\"\"\")\n",
    "conn.commit()"
   ]
  },
  {
   "cell_type": "code",
   "execution_count": 48,
   "id": "ae090a10",
   "metadata": {},
   "outputs": [],
   "source": [
    "# # Insert data into the table\n",
    "for _, row in tracks_df.iterrows():\n",
    "    cur.execute(\"\"\"\n",
    "        INSERT INTO tracks (id, track_name, genre, image, preview_url, url, popularity, danceability, energy, key, loudness, mode, speechiness, acousticness, liveness, valence, tempo, duration_ms, time_signature)\n",
    "        VALUES (%s, %s, %s, %s, %s, %s, %s, %s, %s, %s, %s, %s, %s, %s, %s, %s, %s, %s, %s)\n",
    "    \"\"\", (row[\"id\"], row[\"track_name\"], row[\"genre\"], row[\"image\"], row[\"preview_url\"], row[\"url\"], row[\"popularity\"], row[\"danceability\"], row[\"energy\"], row[\"key\"], row[\"loudness\"], row[\"mode\"], row[\"speechiness\"], row[\"acousticness\"], row[\"liveness\"], row[\"valence\"], row[\"tempo\"], row[\"duration_ms\"], row[\"time_signature\"]))\n",
    "\n",
    "conn.commit()"
   ]
  },
  {
   "cell_type": "code",
   "execution_count": 49,
   "id": "d197466c",
   "metadata": {},
   "outputs": [],
   "source": [
    "# Create a table artists\n",
    "cur.execute(\"\"\"\n",
    "    CREATE TABLE IF NOT EXISTS artists (\n",
    "        id INT PRIMARY KEY,\n",
    "        artist VARCHAR\n",
    "    )\n",
    "\"\"\")\n",
    "conn.commit()"
   ]
  },
  {
   "cell_type": "code",
   "execution_count": 50,
   "id": "8dfcef29",
   "metadata": {
    "scrolled": true
   },
   "outputs": [],
   "source": [
    "# Insert data into the table\n",
    "for _, row in artists_df.iterrows():\n",
    "    cur.execute(\"\"\"\n",
    "        INSERT INTO artists (id, artist)\n",
    "        VALUES (%s, %s)\n",
    "    \"\"\", (row[\"id\"],row[\"artist\"]))\n",
    "conn.commit()"
   ]
  },
  {
   "cell_type": "code",
   "execution_count": 51,
   "id": "1dd221a5",
   "metadata": {},
   "outputs": [],
   "source": [
    "# Create a table albums\n",
    "cur.execute(\"\"\"\n",
    "    CREATE TABLE IF NOT EXISTS albums (\n",
    "        id INT PRIMARY KEY,\n",
    "        album VARCHAR\n",
    "    )\n",
    "\"\"\")\n",
    "conn.commit()"
   ]
  },
  {
   "cell_type": "code",
   "execution_count": 52,
   "id": "80d74b31",
   "metadata": {},
   "outputs": [],
   "source": [
    "# Insert data into the table\n",
    "for _, row in albums_df.iterrows():\n",
    "    cur.execute(\"\"\"\n",
    "        INSERT INTO albums (id, album)\n",
    "        VALUES (%s, %s)\n",
    "    \"\"\", (row[\"id\"],row[\"album\"]))\n",
    "conn.commit()"
   ]
  },
  {
   "cell_type": "code",
   "execution_count": 53,
   "id": "1fa65039",
   "metadata": {},
   "outputs": [],
   "source": [
    "# Create a associate table music_collection\n",
    "cur.execute(\"\"\"\n",
    "    CREATE TABLE IF NOT EXISTS music_collection (\n",
    "        track_id VARCHAR NOT NULL,\n",
    "        album_id INT NOT NULL,\n",
    "        artist_id INT NOT NULL,\n",
    "        PRIMARY KEY(track_id, album_id, artist_id)\n",
    "    )\n",
    "\"\"\")\n",
    "conn.commit()"
   ]
  },
  {
   "cell_type": "code",
   "execution_count": 54,
   "id": "c0d44cec",
   "metadata": {},
   "outputs": [],
   "source": [
    "# Insert data into the table\n",
    "for _, row in taa_df.iterrows():\n",
    "    cur.execute(\"\"\"\n",
    "        INSERT INTO music_collection (track_id, album_id, artist_id)\n",
    "        VALUES (%s, %s, %s)\n",
    "    \"\"\", (row[\"track_id\"], row[\"album_id\"], row[\"artist_id\"]))\n",
    "conn.commit()"
   ]
  },
  {
   "cell_type": "code",
   "execution_count": 55,
   "id": "c6ff5433",
   "metadata": {},
   "outputs": [],
   "source": [
    "# Close connection\n",
    "conn.close()"
   ]
  },
  {
   "attachments": {},
   "cell_type": "markdown",
   "id": "ead4d969",
   "metadata": {},
   "source": [
    "These are the tables created after the data has been normalized:"
   ]
  },
  {
   "attachments": {
    "normalized_2nf.png": {
     "image/png": "[encoded data removed]"
    }
   },
   "cell_type": "markdown",
   "id": "dbf5e044",
   "metadata": {},
   "source": [
    "![normalized_2nf.png](attachment:normalized_2nf.png)"
   ]
  },
  {
   "cell_type": "code",
   "execution_count": null,
   "id": "20687202",
   "metadata": {},
   "outputs": [],
   "source": []
  }
 ],
 "metadata": {
  "kernelspec": {
   "display_name": "Python 3 (ipykernel)",
   "language": "python",
   "name": "python3"
  },
  "language_info": {
   "codemirror_mode": {
    "name": "ipython",
    "version": 3
   },
   "file_extension": ".py",
   "mimetype": "text/x-python",
   "name": "python",
   "nbconvert_exporter": "python",
   "pygments_lexer": "ipython3",
   "version": "3.11.5"
  }
 },
 "nbformat": 4,
 "nbformat_minor": 5
}
